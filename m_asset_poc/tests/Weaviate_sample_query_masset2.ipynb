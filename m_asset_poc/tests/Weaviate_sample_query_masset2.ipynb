{
 "cells": [
  {
   "cell_type": "markdown",
   "id": "501a775a-810b-4610-9c07-e0c0d8f54dbc",
   "metadata": {},
   "source": [
    "weaviate 벡터스토어 구성\n"
   ]
  },
  {
   "cell_type": "code",
   "execution_count": 1,
   "id": "6760bf20",
   "metadata": {},
   "outputs": [
    {
     "name": "stderr",
     "output_type": "stream",
     "text": [
      "C:\\Users\\kevin\\AppData\\Local\\Temp\\ipykernel_25616\\3807986265.py:3: LangChainDeprecationWarning: The class `OllamaEmbeddings` was deprecated in LangChain 0.3.1 and will be removed in 1.0.0. An updated version of the class exists in the :class:`~langchain-ollama package and should be used instead. To use it run `pip install -U :class:`~langchain-ollama` and import as `from :class:`~langchain_ollama import OllamaEmbeddings``.\n",
      "  ollama_embeddings = OllamaEmbeddings(\n",
      "d:\\conda_env\\langmanus\\Lib\\site-packages\\google\\protobuf\\runtime_version.py:98: UserWarning: Protobuf gencode version 5.29.0 is exactly one major version older than the runtime version 6.31.0 at grpc_health/v1/health.proto. Please update the gencode to avoid compatibility violations in the next runtime release.\n",
      "  warnings.warn(\n",
      "d:\\conda_env\\langmanus\\Lib\\site-packages\\google\\protobuf\\runtime_version.py:98: UserWarning: Protobuf gencode version 5.27.2 is exactly one major version older than the runtime version 6.31.0 at v1/aggregate.proto. Please update the gencode to avoid compatibility violations in the next runtime release.\n",
      "  warnings.warn(\n",
      "d:\\conda_env\\langmanus\\Lib\\site-packages\\google\\protobuf\\runtime_version.py:98: UserWarning: Protobuf gencode version 5.27.2 is exactly one major version older than the runtime version 6.31.0 at v1/base.proto. Please update the gencode to avoid compatibility violations in the next runtime release.\n",
      "  warnings.warn(\n",
      "d:\\conda_env\\langmanus\\Lib\\site-packages\\google\\protobuf\\runtime_version.py:98: UserWarning: Protobuf gencode version 5.27.2 is exactly one major version older than the runtime version 6.31.0 at v1/base_search.proto. Please update the gencode to avoid compatibility violations in the next runtime release.\n",
      "  warnings.warn(\n",
      "d:\\conda_env\\langmanus\\Lib\\site-packages\\google\\protobuf\\runtime_version.py:98: UserWarning: Protobuf gencode version 5.27.2 is exactly one major version older than the runtime version 6.31.0 at v1/batch_delete.proto. Please update the gencode to avoid compatibility violations in the next runtime release.\n",
      "  warnings.warn(\n",
      "d:\\conda_env\\langmanus\\Lib\\site-packages\\google\\protobuf\\runtime_version.py:98: UserWarning: Protobuf gencode version 5.27.2 is exactly one major version older than the runtime version 6.31.0 at v1/batch.proto. Please update the gencode to avoid compatibility violations in the next runtime release.\n",
      "  warnings.warn(\n",
      "d:\\conda_env\\langmanus\\Lib\\site-packages\\google\\protobuf\\runtime_version.py:98: UserWarning: Protobuf gencode version 5.27.2 is exactly one major version older than the runtime version 6.31.0 at v1/search_get.proto. Please update the gencode to avoid compatibility violations in the next runtime release.\n",
      "  warnings.warn(\n",
      "d:\\conda_env\\langmanus\\Lib\\site-packages\\google\\protobuf\\runtime_version.py:98: UserWarning: Protobuf gencode version 5.27.2 is exactly one major version older than the runtime version 6.31.0 at v1/generative.proto. Please update the gencode to avoid compatibility violations in the next runtime release.\n",
      "  warnings.warn(\n",
      "d:\\conda_env\\langmanus\\Lib\\site-packages\\google\\protobuf\\runtime_version.py:98: UserWarning: Protobuf gencode version 5.27.2 is exactly one major version older than the runtime version 6.31.0 at v1/properties.proto. Please update the gencode to avoid compatibility violations in the next runtime release.\n",
      "  warnings.warn(\n",
      "d:\\conda_env\\langmanus\\Lib\\site-packages\\google\\protobuf\\runtime_version.py:98: UserWarning: Protobuf gencode version 5.27.2 is exactly one major version older than the runtime version 6.31.0 at v1/tenants.proto. Please update the gencode to avoid compatibility violations in the next runtime release.\n",
      "  warnings.warn(\n"
     ]
    }
   ],
   "source": [
    "from langchain_community.embeddings import OllamaEmbeddings\n",
    "\n",
    "ollama_embeddings = OllamaEmbeddings(\n",
    "    base_url = 'http://192.168.1.203:11434',\n",
    "    model=\"bge-m3:latest\",\n",
    "    # model=\"chatfire/bge-m3:q8_0\" # BGE-M3\n",
    ")\n",
    "import weaviate\n",
    "from weaviate.classes.config import Property, DataType, Configure"
   ]
  },
  {
   "cell_type": "code",
   "execution_count": 2,
   "id": "03bcd1b2",
   "metadata": {},
   "outputs": [],
   "source": [
    "# client = weaviate.connect_to_local()\n",
    "# Weaviate가 http://localhost:8081 에서 실행 중인 경우\n",
    "client = weaviate.connect_to_local(host=\"192.168.1.203\", port=8585)"
   ]
  },
  {
   "cell_type": "code",
   "execution_count": 12,
   "id": "b128bf03",
   "metadata": {},
   "outputs": [],
   "source": [
    "client.collections.delete(\"m_asset_sample_query_2_hint\")"
   ]
  },
  {
   "cell_type": "code",
   "execution_count": 13,
   "id": "e66e5b85-ab25-4e3b-a258-c41582e72893",
   "metadata": {},
   "outputs": [],
   "source": [
    "# 스키마 정의\n",
    "properties = [\n",
    "    Property(name=\"query\", data_type=DataType.TEXT),\n",
    "    Property(name=\"explanation\", data_type=DataType.TEXT),\n",
    "]\n",
    "collection_name = \"m_asset_sample_query_2_hint\"\n",
    "if collection_name in client.collections.list_all():\n",
    "    client.collections.delete(name=collection_name)\n",
    "# 컬렉션 생성\n",
    "client.collections.create(\n",
    "    name=\"m_asset_sample_query_2_hint\",\n",
    "    properties=properties,\n",
    "    vectorizer_config=None,  # 벡터화를 직접 처리할 예정이므로 'None'으로 설정\n",
    "    # vectorizer_config=Configure.Vectorizer.text2vec_ollama(   # hybrid 에서 필요\n",
    "    #         model=\"bge-m3:latest\" # 사용하는 Ollama 임베딩 모델 이름 (예: nomic-embed-text)\n",
    "    #     ),\n",
    "    # Hybrid 검색을 위한 인덱스 설정\n",
    "    inverted_index_config=Configure.inverted_index(\n",
    "        bm25_b=0.75,\n",
    "        bm25_k1=1.2,\n",
    "        # cleanup_interval_seconds=60,\n",
    "        index_null_state=False,\n",
    "        index_property_length=False,\n",
    "        index_timestamps=False,\n",
    "        # stopwords_preset=\"en\"\n",
    "    )\n",
    ")\n",
    "\n",
    "# news_collection = client.collections.get(\"m_asset\")\n",
    "news_collection = client.collections.get(\"m_asset_sample_query_2_hint\")\n"
   ]
  },
  {
   "cell_type": "code",
   "execution_count": 14,
   "id": "d95a8c54",
   "metadata": {},
   "outputs": [
    {
     "data": {
      "text/plain": [
       "UUID('0cea14e7-44bd-4a3b-9763-8d774ebb26c8')"
      ]
     },
     "execution_count": 14,
     "metadata": {},
     "output_type": "execute_result"
    }
   ],
   "source": [
    "sample_query = \"\"\"\n",
    "select\n",
    "\ts.kor_name_small as 종목명,\n",
    "\te.high_52w_price as 연중최고가,\n",
    "\te.foreigner_limit_ratio as 외국인보유율, \n",
    "\te.trading_volume as 거래량,\n",
    "\ts.short_sell_volume as 공매도,\n",
    "\t(e.close_price - e.prev_close_price) / e.prev_close_price * 100 as 상승율,\n",
    "\ts.prev_year_per AS PER, \n",
    "\ts.dividend_yield as 배당수익률\n",
    "from\n",
    "\tm_asset.exchange_kosdaq_stock_master_01 e\n",
    "join m_asset.exchange_kosdaq_stock_master s on\n",
    "\te.stock_code = s.stock_code AND e.data_date = s.data_date;\n",
    "\"\"\"\n",
    "explanation = \"연중 최고가, 외국인보유율, 거래량, 공매도, 상승률, PER, 배당수익률\"\n",
    "\n",
    "explanation_embedding = ollama_embeddings.embed_query(explanation)\n",
    "news_collection.data.insert(\n",
    "    properties={\"query\": sample_query,\"explanation\": explanation},\n",
    "    vector=explanation_embedding\n",
    ")\n"
   ]
  },
  {
   "cell_type": "code",
   "execution_count": 15,
   "id": "cb053f97",
   "metadata": {},
   "outputs": [
    {
     "data": {
      "text/plain": [
       "UUID('525478e7-99c0-428b-a0b0-53f2f4caa98a')"
      ]
     },
     "execution_count": 15,
     "metadata": {},
     "output_type": "execute_result"
    }
   ],
   "source": [
    "sample_query = \"\"\"\n",
    "select\n",
    "\ts.kor_name_small as 종목명,\n",
    "\te.accumulated_trade_amount as 누적거래대금\n",
    "from\n",
    "\tm_asset.kosdaq_trade_execution e\n",
    "join m_asset.exchange_kosdaq_stock_master s on\n",
    "\te.stock_code = s.stock_code AND e.data_date = s.data_date;\n",
    "\"\"\"\n",
    "explanation = \"누적거래대금\"\n",
    "\n",
    "explanation_embedding = ollama_embeddings.embed_query(explanation)\n",
    "news_collection.data.insert(\n",
    "    properties={\"query\": sample_query,\"explanation\": explanation},\n",
    "    vector=explanation_embedding\n",
    ")\n"
   ]
  },
  {
   "cell_type": "code",
   "execution_count": null,
   "id": "5e4a426f",
   "metadata": {},
   "outputs": [],
   "source": []
  }
 ],
 "metadata": {
  "kernelspec": {
   "display_name": "Python 3",
   "language": "python",
   "name": "python3"
  },
  "language_info": {
   "codemirror_mode": {
    "name": "ipython",
    "version": 3
   },
   "file_extension": ".py",
   "mimetype": "text/x-python",
   "name": "python",
   "nbconvert_exporter": "python",
   "pygments_lexer": "ipython3",
   "version": "3.12.9"
  }
 },
 "nbformat": 4,
 "nbformat_minor": 5
}
