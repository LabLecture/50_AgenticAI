{
 "cells": [
  {
   "cell_type": "code",
   "execution_count": 5,
   "id": "b6942a38",
   "metadata": {},
   "outputs": [],
   "source": [
    "from langchain_ollama import ChatOllama"
   ]
  },
  {
   "cell_type": "code",
   "execution_count": 8,
   "id": "8b3d216e",
   "metadata": {},
   "outputs": [
    {
     "data": {
      "text/plain": [
       "AIMessage(content='Hello! How can I assist you today?', additional_kwargs={}, response_metadata={'model': 'llama3.2:latest', 'created_at': '2025-04-17T23:10:36.363135122Z', 'done': True, 'done_reason': 'stop', 'total_duration': 5844972475, 'load_duration': 3864436580, 'prompt_eval_count': 27, 'prompt_eval_duration': 1850000000, 'eval_count': 10, 'eval_duration': 127000000, 'model_name': 'llama3.2:latest'}, id='run-f320a91c-26c6-434d-8a15-613194932e71-0', usage_metadata={'input_tokens': 27, 'output_tokens': 10, 'total_tokens': 37})"
      ]
     },
     "execution_count": 8,
     "metadata": {},
     "output_type": "execute_result"
    }
   ],
   "source": [
    "llm = ChatOllama(model=\"llama3.2:latest\", emperature=0, base_url = \"http://192.168.1.203:11434\")\n",
    "# llm = ChatOllama(model=\"mistral:latest\", emperature=0, base_url = \"http://61.108.166.16:11434\")\n",
    "llm.invoke('안녕하세요')"
   ]
  },
  {
   "cell_type": "code",
   "execution_count": null,
   "id": "7b2d7abe",
   "metadata": {},
   "outputs": [],
   "source": []
  }
 ],
 "metadata": {
  "kernelspec": {
   "display_name": "Python 3",
   "language": "python",
   "name": "python3"
  },
  "language_info": {
   "codemirror_mode": {
    "name": "ipython",
    "version": 3
   },
   "file_extension": ".py",
   "mimetype": "text/x-python",
   "name": "python",
   "nbconvert_exporter": "python",
   "pygments_lexer": "ipython3",
   "version": "3.12.8"
  }
 },
 "nbformat": 4,
 "nbformat_minor": 5
}
