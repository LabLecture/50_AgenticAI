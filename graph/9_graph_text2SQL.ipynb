{
 "cells": [
  {
   "cell_type": "code",
   "execution_count": null,
   "id": "b6942a38",
   "metadata": {},
   "outputs": [
    {
     "data": {
      "text/plain": [
       "AIMessage(content='안녕하세요! (Hello!) How can I assist you today?', additional_kwargs={}, response_metadata={'model': 'llama3.2:latest', 'created_at': '2025-04-17T22:44:30.11610998Z', 'done': True, 'done_reason': 'stop', 'total_duration': 6193314318, 'load_duration': 4176242458, 'prompt_eval_count': 27, 'prompt_eval_duration': 1836000000, 'eval_count': 14, 'eval_duration': 171000000, 'model_name': 'llama3.2:latest'}, id='run-65d715bc-0e9d-4eef-880e-2ed8d772cbf3-0', usage_metadata={'input_tokens': 27, 'output_tokens': 14, 'total_tokens': 41})"
      ]
     },
     "execution_count": 2,
     "metadata": {},
     "output_type": "execute_result"
    }
   ],
   "source": [
    "from langchain_ollama import ChatOllama\n",
    "\n",
    "llm = ChatOllama(model=\"llama3.2:latest\", emperature=0, ase_url = \"http://192.168.1.203:11434\")\n",
    "llm = ChatOllama(model=\"llama3.2:latest\", emperature=0, ase_url = \"http://192.168.1.203:11434\")\n",
    "llm.invoke('안녕하세요')"
   ]
  },
  {
   "cell_type": "code",
   "execution_count": null,
   "id": "8b3d216e",
   "metadata": {},
   "outputs": [],
   "source": []
  }
 ],
 "metadata": {
  "kernelspec": {
   "display_name": "Python 3",
   "language": "python",
   "name": "python3"
  },
  "language_info": {
   "codemirror_mode": {
    "name": "ipython",
    "version": 3
   },
   "file_extension": ".py",
   "mimetype": "text/x-python",
   "name": "python",
   "nbconvert_exporter": "python",
   "pygments_lexer": "ipython3",
   "version": "3.12.8"
  }
 },
 "nbformat": 4,
 "nbformat_minor": 5
}
