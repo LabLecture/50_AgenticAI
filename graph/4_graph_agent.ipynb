{
 "cells": [
  {
   "cell_type": "code",
   "execution_count": null,
   "metadata": {},
   "outputs": [
    {
     "name": "stdout",
     "output_type": "stream",
     "text": [
      "Collecting dotenv\n",
      "  Downloading dotenv-0.9.9-py2.py3-none-any.whl (1.9 kB)\n",
      "Collecting python-dotenv\n",
      "  Downloading python_dotenv-1.1.0-py3-none-any.whl (20 kB)\n",
      "Installing collected packages: python-dotenv, dotenv\n",
      "Successfully installed dotenv-0.9.9 python-dotenv-1.1.0\n"
     ]
    },
    {
     "name": "stderr",
     "output_type": "stream",
     "text": [
      "\n",
      "[notice] A new release of pip is available: 23.0.1 -> 25.0.1\n",
      "[notice] To update, run: C:\\Users\\kevin\\AppData\\Local\\Programs\\Python\\Python310\\python.exe -m pip install --upgrade pip\n"
     ]
    }
   ],
   "source": [
    "# !pip install dotenv\n",
    "# !pip install -qU langchain-tavily\n",
    "# https://wikidocs.net/264624 작업"
   ]
  },
  {
   "cell_type": "code",
   "execution_count": 1,
   "metadata": {},
   "outputs": [
    {
     "data": {
      "text/plain": [
       "True"
      ]
     },
     "execution_count": 1,
     "metadata": {},
     "output_type": "execute_result"
    }
   ],
   "source": [
    "# API 키를 환경변수로 관리하기 위한 설정 파일\n",
    "from dotenv import load_dotenv\n",
    "\n",
    "# API 키 정보 로드\n",
    "load_dotenv()"
   ]
  },
  {
   "cell_type": "markdown",
   "metadata": {},
   "source": [
    "### 1. TavilySearchResults 검색 API 도구 사용"
   ]
  },
  {
   "cell_type": "code",
   "execution_count": 6,
   "metadata": {},
   "outputs": [],
   "source": [
    "from langchain_tavily import TavilySearch\n",
    "\n",
    "# 검색 도구 생성\n",
    "tool = TavilySearch(max_results=3)\n",
    "\n",
    "# 도구 목록에 추가\n",
    "tools = [tool]"
   ]
  },
  {
   "cell_type": "code",
   "execution_count": 7,
   "metadata": {},
   "outputs": [
    {
     "data": {
      "text/plain": [
       "{'query': 'What happened Korean President',\n",
       " 'follow_up_questions': None,\n",
       " 'answer': None,\n",
       " 'images': [],\n",
       " 'results': [{'title': \"South Korea's president removed from power: What happens now?\",\n",
       "   'url': 'https://www.msn.com/en-us/news/world/south-koreas-president-removed-from-power-what-happens-now/ar-AA1ChC1R',\n",
       "   'content': \"South Korea's president has been removed from office after the Constitutional Court voted unanimously to uphold his impeachment. Yoon Suk Yeol was suspended from duty in December after being\",\n",
       "   'score': 0.7636429,\n",
       "   'raw_content': None},\n",
       "  {'title': \"Yoon Suk Yeol: South Korea's impeached president is removed ... - CNN\",\n",
       "   'url': 'https://www.cnn.com/2025/04/03/asia/yoon-impeachment-verdict-south-korea-intl-hnk',\n",
       "   'content': \"Yoon Suk Yeol: South Korea’s impeached president is removed from office, four months after declaring martial law | CNN South Korea's Constitutional Court unanimously removed President Yoon Suk Yeol from office Friday following his brief declaration of martial law in December. South Korea’s highest court has removed embattled President Yoon Suk Yeol from office, ending months of uncertainty and legal wrangling after he briefly declared martial law in December and plunged the nation into political turmoil. Supporters of impeached South Korean President Yoon Suk Yeol attend a rally to oppose his impeachment near the presidential residence in Seoul, South Korea, on January 6, 2025. Before taking office in 2022, Yoon was a star prosecutor and a key figure in the sweeping investigation of South Korea’s last impeached president, Park Geun-hye.\",\n",
       "   'score': 0.57894874,\n",
       "   'raw_content': None},\n",
       "  {'title': 'Timeline: What triggered South Korean presidential election ... - AP News',\n",
       "   'url': 'https://apnews.com/article/south-korea-presidential-election-2025-3e81cb6e38e20086998c8f8fdc701546',\n",
       "   'content': \"From left, South Korea's presidential candidates, Kim Moon Soo of the People Power Party, Kwon Young-guk of the Democratic Labor Party, Lee Jun-seok of the New Reform Party and Lee Jae-myung of the Democratic Party pose for photograph ahead of a televised presidential debate for the upcoming June 3 presidential election at SBS studio in Seoul, on May 18, 2025.\",\n",
       "   'score': 0.30660018,\n",
       "   'raw_content': None}],\n",
       " 'response_time': 1.93}"
      ]
     },
     "execution_count": 7,
     "metadata": {},
     "output_type": "execute_result"
    }
   ],
   "source": [
    "tool.invoke({\"query\": \"What happened Korean President\"})"
   ]
  },
  {
   "cell_type": "code",
   "execution_count": 9,
   "metadata": {},
   "outputs": [],
   "source": [
    "from typing import Annotated\n",
    "from typing_extensions import TypedDict\n",
    "from langgraph.graph.message import add_messages\n",
    "\n",
    "# State 정의\n",
    "class State(TypedDict):\n",
    "    # list 타입에 add_messages 적용(list 에 message 추가)\n",
    "    messages: Annotated[list, add_messages]"
   ]
  },
  {
   "cell_type": "code",
   "execution_count": null,
   "metadata": {},
   "outputs": [],
   "source": [
    "from langchain_ollama import ChatOllama\n",
    "\n",
    "# LLM 초기화\n",
    "llm = ChatOllama(model=\"mistral:latest\", temperature=0, base_url = \"http://192.168.1.203:11434\")\n",
    "# llm = ChatOllama(model=\"qwq:latest\", temperature=0, base_url = \"http://192.168.1.203:11434\")\n",
    "\n",
    "llm_with_tools = llm.bind_tools(tools)  "
   ]
  },
  {
   "cell_type": "code",
   "execution_count": 49,
   "metadata": {},
   "outputs": [],
   "source": [
    "# 노드 함수 정의\n",
    "def chatbot(state: State):\n",
    "    answer = llm_with_tools.invoke(state[\"messages\"])\n",
    "    # 메시지 목록 반환\n",
    "    return {\"messages\": [answer]}  # 자동으로 add_messages 적용"
   ]
  },
  {
   "cell_type": "code",
   "execution_count": 50,
   "metadata": {},
   "outputs": [
    {
     "data": {
      "text/plain": [
       "<langgraph.graph.state.StateGraph at 0x23f83885cd0>"
      ]
     },
     "execution_count": 50,
     "metadata": {},
     "output_type": "execute_result"
    }
   ],
   "source": [
    "# 그래프 생성 및 노드를 추가\n",
    "from langgraph.graph import StateGraph\n",
    "\n",
    "# 상태 그래프 초기화\n",
    "graph_builder = StateGraph(State)\n",
    "\n",
    "# 노드 추가\n",
    "graph_builder.add_node(\"chatbot\", chatbot)"
   ]
  },
  {
   "cell_type": "markdown",
   "metadata": {},
   "source": [
    "### 2. 도구 노드(Tool Node)\n",
    "- 다음으로, 도구가 호출될 경우 실제로 실행할 수 있는 함수를 만들어야 합니다. 이를 위해 새로운 노드에 도구를 추가합니다.\n",
    "- 가장 최근의 메시지를 확인하고 메시지에 tool_calls가 포함되어 있으면 도구를 호출하는 BasicToolNode를 구현\n",
    "- 지금은 직접 구현하지만, 나중에는 LangGraph의 pre-built 되어있는 ToolNode 로 대체할 수 있습니다."
   ]
  },
  {
   "cell_type": "code",
   "execution_count": 51,
   "metadata": {},
   "outputs": [
    {
     "data": {
      "text/plain": [
       "<langgraph.graph.state.StateGraph at 0x23f83885cd0>"
      ]
     },
     "execution_count": 51,
     "metadata": {},
     "output_type": "execute_result"
    }
   ],
   "source": [
    "import json\n",
    "from langchain_core.messages import ToolMessage\n",
    "\n",
    "\n",
    "class BasicToolNode:\n",
    "    \"\"\"Run tools requested in the last AIMessage node\"\"\"\n",
    "\n",
    "    def __init__(self, tools: list) -> None:\n",
    "        # 도구 리스트\n",
    "        self.tools_list = {tool.name: tool for tool in tools}\n",
    "\n",
    "    def __call__(self, inputs: dict):\n",
    "        # 메시지가 존재할 경우 가장 최근 메시지 1개 추출\n",
    "        if messages := inputs.get(\"messages\", []):\n",
    "            message = messages[-1]\n",
    "        else:\n",
    "            raise ValueError(\"No message found in input\")\n",
    "\n",
    "        # 도구 호출 결과\n",
    "        outputs = []\n",
    "        for tool_call in message.tool_calls:\n",
    "            # 도구 호출 후 결과 저장\n",
    "            tool_result = self.tools_list[tool_call[\"name\"]].invoke(tool_call[\"args\"])\n",
    "            outputs.append(\n",
    "                # 도구 호출 결과를 메시지로 저장\n",
    "                ToolMessage(\n",
    "                    content=json.dumps(\n",
    "                        tool_result, ensure_ascii=False\n",
    "                    ),  # 도구 호출 결과를 문자열로 변환\n",
    "                    name=tool_call[\"name\"],\n",
    "                    tool_call_id=tool_call[\"id\"],\n",
    "                )\n",
    "            )\n",
    "\n",
    "        return {\"messages\": outputs}\n",
    "\n",
    "\n",
    "# 도구 노드 생성\n",
    "tool_node = BasicToolNode(tools=[tool])\n",
    "\n",
    "# 그래프에 도구 노드 추가\n",
    "graph_builder.add_node(\"tools\", tool_node)"
   ]
  },
  {
   "cell_type": "markdown",
   "metadata": {},
   "source": [
    "### 3. 조건부 엣지(Conditional Edge)\n",
    "1) Edges는 한 노드에서 다음 노드로 제어 흐름을 라우팅합니다.\n",
    "2) Conditional edges는 일반적으로 \"if\" 문을 포함하여 현재 그래프 상태에 따라 다른 노드로 라우팅합니다. \n",
    "3) 이러한 함수는 현재 그래프 state를 받아 다음에 호출할 Node 를 나타내는 문자열 또는 문자열 목록 을 반환합니다.\n",
    "4) 조건은 도구 호출이 있으면 tools로, 없으면 END로 라우팅\n"
   ]
  },
  {
   "cell_type": "code",
   "execution_count": 52,
   "metadata": {},
   "outputs": [],
   "source": [
    "from langgraph.graph import START, END\n",
    "\n",
    "# route_tools라는 라우터 함수를 정의하여 챗봇의 출력에서 tool_calls를 확인\n",
    "def route_tools(\n",
    "    state: State,\n",
    "):\n",
    "    if messages := state.get(\"messages\", []):\n",
    "        # 가장 최근 AI 메시지 추출\n",
    "        ai_message = messages[-1]\n",
    "    else:\n",
    "        # 입력 상태에 메시지가 없는 경우 예외 발생\n",
    "        raise ValueError(f\"No messages found in input state to tool_edge: {state}\")\n",
    "\n",
    "    # AI 메시지에 도구 호출이 있는 경우 \"tools\" 반환\n",
    "    if hasattr(ai_message, \"tool_calls\") and len(ai_message.tool_calls) > 0:\n",
    "        # 도구 호출이 있는 경우 \"tools\" 반환\n",
    "        return \"tools\"\n",
    "    # 도구 호출이 없는 경우 \"END\" 반환\n",
    "    return END\n",
    "\n",
    "\n",
    "# tools_condition 함수는 챗봇이 도구 사용을 요청하면 \"tools\"를 반환하고, 직접 응답이 가능한 경우 \"END\"를 반환\n",
    "graph_builder.add_conditional_edges(\n",
    "    source=\"chatbot\",\n",
    "    path=route_tools,\n",
    "    # route_tools 의 반환값이 \"tools\" 인 경우 \"tools\" 노드로, 그렇지 않으면 END 노드로 라우팅\n",
    "    path_map={\"tools\": \"tools\", END: END},\n",
    ")\n",
    "\n",
    "# tools > chatbot\n",
    "graph_builder.add_edge(\"tools\", \"chatbot\")\n",
    "\n",
    "# START > chatbot\n",
    "graph_builder.add_edge(START, \"chatbot\")\n",
    "\n",
    "# 그래프 컴파일\n",
    "graph = graph_builder.compile()"
   ]
  },
  {
   "cell_type": "code",
   "execution_count": 53,
   "metadata": {},
   "outputs": [
    {
     "data": {
      "image/png": "[encoded data removed]",
      "text/plain": [
       "<IPython.core.display.Image object>"
      ]
     },
     "metadata": {},
     "output_type": "display_data"
    }
   ],
   "source": [
    "from IPython.display import Image, display\n",
    "display(Image(graph.get_graph().draw_mermaid_png()))"
   ]
  },
  {
   "cell_type": "code",
   "execution_count": 55,
   "metadata": {},
   "outputs": [
    {
     "name": "stdout",
     "output_type": "stream",
     "text": [
      "\n",
      "==============\n",
      "STEP: chatbot\n",
      "==============\n",
      "\n",
      "content='' additional_kwargs={} response_metadata={'model': 'mistral:latest', 'created_at': '2025-05-29T23:33:29.867168041Z', 'done': True, 'done_reason': 'stop', 'total_duration': 3835041427, 'load_duration': 21892647, 'prompt_eval_count': 956, 'prompt_eval_duration': 391000000, 'eval_count': 235, 'eval_duration': 3419000000, 'model_name': 'mistral:latest'} id='run--ead765bc-b71a-4df8-8b5c-62038d498b95-0' tool_calls=[{'name': 'tavily_search', 'args': {'include_images': False, 'query': '2022 대한민국 대통령 선거', 'search_depth': 'advanced'}, 'id': '30e59670-014f-44e5-9620-5e2254b8326f', 'type': 'tool_call'}] usage_metadata={'input_tokens': 956, 'output_tokens': 235, 'total_tokens': 1191}\n",
      "\n",
      "==============\n",
      "STEP: tools\n",
      "==============\n",
      "\n",
      "content='{\"query\": \"2022 대한민국 대통령 선거\", \"follow_up_questions\": null, \"answer\": null, \"images\": [], \"results\": [{\"url\": \"https://ko.wikipedia.org/wiki/%EB%8C%80%ED%95%9C%EB%AF%BC%EA%B5%AD_%EC%A0%9C20%EB%8C%80_%EB%8C%80%ED%86%B5%EB%A0%B9_%EC%84%A0%EA%B1%B0\", \"title\": \"대한민국 제20대 대통령 선거 - 위키백과, 우리 모두의 ...\", \"content\": \"보이기\\\\n사이드바로 이동 숨기기\\\\n위키백과, 우리 모두의 백과사전.\\\\n대한민국 제20대 대통령 선거←\\xa02017년2022년 3월 9일2025년\\xa0→투표율77.1% ( 0.1%p)\\xa0후보윤석열이재명정당국민의힘더불어민주당득표수16,394,81516,147,738득표율48.56%47.83%시·도별 우세지역■ 윤석열■ 이재명선거전 대통령문재인더불어민주당대통령 당선자윤석열국민의힘\\\\n대한민국 제20대 대통령 선거는 대한민국의 제20대 대통령을 선출하기 위해 실시된 대한민국의 대통령 선거이다. 선거 결과 국민의힘 윤석열 후보가 당선되었다. 재외선거는 2022년 2월 23일~2월 28일, 사전투표는 2022년 3월 4일과 3월 5일, 본 투표는 2022년 3월 9일 각각 실시되었다.[1] [...] 2017년 5월 10일에 취임한 제19대 대한민국 대통령 문재인의 후임자로 이어갈 차기 대한민국 대통령을 선출하는 선거이다. 개정된 선거법으로 만 18세에 해당하는 2004년 3월 10일생까지 선거 참여가 가능하며, 1982년 3월 10일생까지 피선거권이 있다.\\\\n이번 제20대 대한민국 대통령 선거의 당선자는 2022년 5월 10일부터 2027년 5월 9일까지 앞으로 5년 동안 대한민국 대통령을 수행하게 된다.\\\\n후보자 중 자치단체장의 경우 선거법에 따라 선거일 이전에 공직에서 사임해야 한다.\\\\n2022년 2월 16일, 코로나19 자가 격리자, 시설 격리자(이하 격리자)의 선거권을 보장하기 위해 격리자 등에 한정하여 오후 6시부터 오후 7시 30분까지 운영하는 등의 내용을 담은 공직선거법이 공표되었다. 이외에도 거소/선상투표 신고방법 및 대상 확대, 거소투표신고인 신고 기관/시설 확대, 거소투표용지 미발송 대상 추가, 사전투표소 설치 관련 등의 내용도 포함되었다.[3]\\\\n후보자\\\\n[편집] [...] | 리얼미터 | 2022년 2월 4주[15] |  40.5% |  41.9% |  2.6% |  6.8% |  8.2% |\\\\n| 리얼미터 | 2022년 2월 4주[16] |  39.5% |  42.0% |  1.8% |  8.6% |  8.2% |\\\\n| 리얼미터 | 2022년 3월 1주 |  40.6% |  45.1% |  1.9% |  7.1% |  5.2% |\\\\n| 한국갤럽 | 2022년 3월 1주 |  38% |  39% |  3% |  12% |  7% |\\\\n| 20대 대선 | 2022년 3월 9일 |  47.8% |  48.5% |  2.3% | - |  1.3% |\\\\n투표율\\\\n[편집]\\\\n유권자 수\\\\n[편집]\\\\n제20대 대통령 선거의 선거인 수는 44,197,692명으로 지난 19대 대선에 비해 1,717,982명 증가했다.\\\\n아래 표는 2022년 2월 25일에 확정지은 유권자 수이다.\\\\n| 행정 구역명 | 전체 인구 | 유권자 수 |\\\\n| --- | --- | --- |\", \"score\": 0.9245858, \"raw_content\": null}, {\"url\": \"https://www.bbc.com/korean/features-60673412\", \"title\": \"윤석열 당선... 2022 대통령 선거 결과\", \"content\": \"이 정보는 정기적으로 업데이트됩니다. 아래 인터랙티브 그래픽을 클릭해 각 지역별 개표현황을 확인할 수 있습니다. \\\\n\\\\n                    2022년 3월 10일 10:00:00\\\\n\\\\n\\\\n\\\\n대한민국\\\\n후보자득표율 | 득표율 | \\\\n이재명 | 47.83% | \\\\n윤석열 | 48.56% | \\\\n심상정 | 1.97% | \\\\n초기화\\\\n\\\\n출처:  중앙선거관리위원회\\\\n\\\\n역대급 초박빙 승부\\\\n\\\\n이번 대선은 오미크론 변이 대유행 속에서 치러지는 만큼 코로나19 확진·격리 유권자를 위해 투표 마감 시간이 1시간 30분 연장됐다.\\\\n\\\\n아울러 이재명 더불어민주당 후보와 윤석열 국민의힘 후보 간 초박빙 승부가 막판까지 이어지면서 과거보다 훨씬 늦은 10일 오전 3시가 넘어서야 당선인 윤곽이 나타났다.\\\\n\\\\n당선인의 다음 행보는?\\\\n\\\\n9일 국민의 선택을 받게 된 제20대 대통령 당선인은 오는 5월 10일 차기 대통령으로 공식 취임하게 된다. [...] 윤석열 당선... 2022 대통령 선거 결과\\\\n\\\\n사진 출처, News1\\\\n\\\\n제20대 대한민국 대통령에 윤석열 국민의힘 후보가 당선됐다.\\\\n\\\\n중앙선거관리위원회에 따르면 10일 오전 개표율 100% 기준, 윤석열 국민의힘 후보가 득표율 48.56%를 기록해 이재명 더불어민주당 후보(47.83%)를 앞섰다. 선거 막판까지 1%포인트 차이가 나지 않은 초접전의 상황이 이어졌다.\\\\n\\\\n최종 투표율은 77.1%로 잠정 집계됐다.\\\\n\\\\n선관위는 9일 투표 공식 종료 시각인 오후 7시 30분 기준 전국 1만4464개 투표소의 투표 현황을 파악한 결과, 선거인 수 4419만7692명 가운데 3405만9714명이 투표에 참여한 것으로 추산했다.\\\\n\\\\n앞서 사전투표율이 36.93%로 역대 최고를 기록하면서 지난 2017년 19대 대선 최종투표율(77.2%)을 웃돌 것이란 전망이 왔지만, 오히려 이보다 0.1%포인트 낮았다.\\\\n\\\\n개표진행 상황 여기서 확인하세요\\\\n\\\\n2022 대통령 선거 결과\", \"score\": 0.81770587, \"raw_content\": null}, {\"url\": \"https://ko.wikipedia.org/wiki/%EB%8C%80%ED%95%9C%EB%AF%BC%EA%B5%AD_%EC%A0%9C21%EB%8C%80_%EB%8C%80%ED%86%B5%EB%A0%B9_%EC%84%A0%EA%B1%B0\", \"title\": \"대한민국 제21대 대통령 선거 - 위키백과, 우리 모두의 ...\", \"content\": \"대통령 선거의 후보자 중 광역지방자치단체장이나 기초지방자치단체장의 경우 선거법에 따라 선거일 이전에 공직에서 사임해야 한다.\\\\n\\\\n이번 대통령 선거의 당선자는 선거 이후 다음날 2025년 6월 4일에 대통령직인수위원회 없이 바로 취임하며 탄핵을 비롯한 불미스러운 일이 없는 한, 2030년 6월 3일까지 앞으로 5년 동안 대한민국 대통령직을 수행을 할 예정이다. 이번 대선은 대한민국 역사상 처음으로 6월에 치뤄지며 장미 대선이 된다.\\\\n\\\\n이번 대선에는 선거법에 따라 선거권이 2007년 6월 4일생까지 주어지며 피선거권은 1985년 6월 3일생까지 새로 주어진다.\\\\n\\\\n선거 일정\\\\n\\\\n이번 선거의 일정은 다음과 같다.[2]\\\\n\\\\n후보자\\\\n\\\\n더불어민주당\\\\n\\\\n당 | 더불어민주당\\\\n이름 | 이재명\\\\n기호 | 기호 1번\\\\n사진 | \\\\n이전 | 더불어민주당당대표(2022–2025)\\\\n출생 | 1963년12월 8일(만61세)\\\\n캠프 | 진짜 대한민국 선거대책위원회\\\\n표어 | 이제부터 진짜 대한민국\\\\n\\\\n\\\\n탈락\\\\n\\\\n\\\\n\\\\n국민의힘 [...] vte대한민국 제21대 대통령 선거\\\\n경선 (더불어민주당·국민의힘·개혁신당·진보당·민주노동당)토론회\\\\n주요 후보 | 이재명[1] (더불어민주당)[2] (국민의힘)이준석[4] (개혁신당)권영국(민주노동당)\\\\n군소 후보 | 김재연[5] (진보당)\\\\n지역별 통계 | 서울부산대구인천광주대전울산세종경기강원충북충남전북전남경북경남제주\\\\n[ ]: 기호.굵은 글씨는 당선자.\\\\nvte대한민국의 선거\\\\n대통령 선거 | 1948195219561960.31960.819631967197119721978197919801981198719921997200220072012201720222025\\\\n부통령 선거 | 19481951195219561960.3\\\\n국회의원 선거 | 19481950195419581960196319671971197319781981198519881992199620002004200820122016202020242028 [...] 목차\\\\n\\\\n대한민국 제21대 대통령 선거\\\\n\\\\n\\\\n대한민국 제21대 대통령 선거\\\\n←2022년2025년 6월 3일2030년→ | ←2022년 | 2025년 6월 3일 | 2030년→\\\\n←2022년 | 2025년 6월 3일 | 2030년→\\\\n\\\\n선거전대통령이주호(권한대행)무소속대통령당선자TBD | 선거전대통령이주호(권한대행)무소속 | 대통령당선자TBD\\\\n선거전대통령이주호(권한대행)무소속 | 대통령당선자TBD\\\\n←2022년 | 2025년 6월 3일 | 2030년→\\\\n선거전대통령이주호(권한대행)무소속 | 대통령당선자TBD\\\\n이주호 (권한대행)\\\\n무소속\\\\n\\\\nTBD\\\\n\\\\n제21대 대통령 선거\", \"score\": 0.77913743, \"raw_content\": null}], \"response_time\": 2.99}' name='tavily_search' id='7e60c680-2fdf-414f-8682-645c5b74ac63' tool_call_id='30e59670-014f-44e5-9620-5e2254b8326f'\n",
      "\n",
      "==============\n",
      "STEP: chatbot\n",
      "==============\n",
      "\n",
      "content='제21대 대한민국의 대통령 선거는 2022년에 진행되었습니다. 당선자는 국민의힘 당의 이명박 대통령이 되었습니다. 이 선거에서 더불어민주당의 이재명 대표가 경쟁했으나 당선에 실패하였습니다.\\n\\n  이명박 대통령은 2018년부터 국민의힘 당을 설립하여 2020년 국회의원 선거에서 당선되었습니다. 그는 2022년 대통령 선거에서 이재명과 경쟁했으며, 최종적으로 당선되어 제21대 대한민국의 대통령이 되었습니다.\\n\\n  이명박 대통령은 2025년 6월 3일까지 재선을 위해 노력할 것으로 예상됩니다.' additional_kwargs={} response_metadata={'model': 'mistral:latest', 'created_at': '2025-05-29T23:33:39.421133355Z', 'done': True, 'done_reason': 'stop', 'total_duration': 5610297512, 'load_duration': 16882938, 'prompt_eval_count': 2048, 'prompt_eval_duration': 929000000, 'eval_count': 282, 'eval_duration': 4503000000, 'model_name': 'mistral:latest'} id='run--457d51d0-0b8e-4b6f-abb3-6d74f1373598-0' usage_metadata={'input_tokens': 2048, 'output_tokens': 282, 'total_tokens': 2330}\n"
     ]
    }
   ],
   "source": [
    "question = \"한국의 다음 대통령 선거\"\n",
    "\n",
    "for event in graph.stream({\"messages\": [(\"user\", question)]}):\n",
    "    for key, value in event.items():\n",
    "        print(f\"\\n==============\\nSTEP: {key}\\n==============\\n\")\n",
    "        print(value[\"messages\"][-1])"
   ]
  },
  {
   "cell_type": "code",
   "execution_count": null,
   "metadata": {},
   "outputs": [],
   "source": []
  }
 ],
 "metadata": {
  "kernelspec": {
   "display_name": "chatbot",
   "language": "python",
   "name": "python3"
  },
  "language_info": {
   "codemirror_mode": {
    "name": "ipython",
    "version": 3
   },
   "file_extension": ".py",
   "mimetype": "text/x-python",
   "name": "python",
   "nbconvert_exporter": "python",
   "pygments_lexer": "ipython3",
   "version": "3.13.2"
  }
 },
 "nbformat": 4,
 "nbformat_minor": 2
}
