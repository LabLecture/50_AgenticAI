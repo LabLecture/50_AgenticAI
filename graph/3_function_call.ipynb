{
 "cells": [
  {
   "cell_type": "code",
   "execution_count": 1,
   "metadata": {},
   "outputs": [],
   "source": [
    "# API 키를 환경변수로 관리하기 위한 설정 파일\n",
    "# from dotenv import load_dotenv\n",
    "\n",
    "# API 키 정보 로드\n",
    "# load_dotenv()"
   ]
  },
  {
   "cell_type": "code",
   "execution_count": 2,
   "metadata": {},
   "outputs": [],
   "source": [
    "# from typing import Annotated, TypedDict\n",
    "# from langgraph.graph.message import add_messages\n",
    "from langchain_core.messages import HumanMessage, ToolMessage\n",
    "# from langchain.callbacks.tracers import ConsoleCallbackHandler\n",
    "from function_call_tool import tools"
   ]
  },
  {
   "cell_type": "code",
   "execution_count": 3,
   "metadata": {},
   "outputs": [],
   "source": [
    "QUESTION_LIST = [\n",
    "    \"주문 조회해줘\",\n",
    "    \"내 등급 조회\",\n",
    "    \"스트라이프 셔츠 주문한거 언제와\",\n",
    "    \"내 등급이랑 주문정보 알려줘\", # multi tool use\n",
    "    \"한국의 수도가 어디야\"\n",
    "]\n",
    "\n",
    "llm_invoke_callbacks = []\n",
    "# llm_invoke_callbacks = [ConsoleCallbackHandler()]\n",
    "\n",
    "tool_dict = {t.name:t for t in tools}"
   ]
  },
  {
   "cell_type": "code",
   "execution_count": 4,
   "metadata": {},
   "outputs": [],
   "source": [
    "# from langchain_openai import ChatOpenAI\n",
    "from langchain_ollama import ChatOllama\n",
    "\n",
    "# LLM 초기화\n",
    "# llm = ChatOpenAI(model=\"gpt-4o-mini\")\n",
    "# llm = ChatOllama(model=\"mistral:latest\", temperature=0, base_url = \"http://192.168.1.203:11434\")\n",
    "llm = ChatOllama(model=\"qwq:latest\", temperature=0, base_url = \"http://192.168.1.203:11434\")"
   ]
  },
  {
   "cell_type": "code",
   "execution_count": 5,
   "metadata": {},
   "outputs": [],
   "source": [
    "# 도구 이름 매핑\n",
    "tool_dict = {t.name: t for t in tools}\n",
    "llm_with_tools = llm.bind_tools(tools)\n",
    "\n",
    "def invoke_model(query, llm):\n",
    "    messages = [HumanMessage(content=query)]\n",
    "    ai_msg = llm.invoke(messages)\n",
    "    messages.append(ai_msg)\n",
    "    \n",
    "    # tool call 처리\n",
    "    if ai_msg.tool_calls:\n",
    "        for tool_call in ai_msg.tool_calls:\n",
    "            selected_tool = tool_dict[tool_call['name']]\n",
    "            print(f\"* {selected_tool.name}() tool 사용중...\")\n",
    "            \n",
    "            # tool 실행\n",
    "            tool_result = selected_tool.invoke(tool_call['args'])\n",
    "            \n",
    "            # ToolMessage 생성 (tool_call_id 포함)\n",
    "            tool_msg = ToolMessage(\n",
    "                content=str(tool_result),\n",
    "                tool_call_id=tool_call['id']\n",
    "            )\n",
    "            messages.append(tool_msg)\n",
    "        \n",
    "        # tool 결과를 포함하여 최종 응답 생성\n",
    "        response2 = llm.invoke(messages)\n",
    "        answer = response2.content\n",
    "    else:\n",
    "        answer = ai_msg.content\n",
    "    \n",
    "    return answer"
   ]
  },
  {
   "cell_type": "code",
   "execution_count": 6,
   "metadata": {},
   "outputs": [
    {
     "name": "stdout",
     "output_type": "stream",
     "text": [
      "Q: 주문 조회해줘\n",
      "* get_order_info() tool 사용중...\n",
      "A : <think>\n",
      "좋아, 사용자가 주문 조회를 요청했을 때 get_order_info 함수를 호출해서 결과를 받았어. 이제 이 결과를 사용자에게 어떻게 전달해야 할까? 주문 내역이 두 개의 상품으로 되어 있으니, 각 상품의 이름과 가격을 명확하게 보여주면 좋겠어. \n",
      "\n",
      "먼저, 사용자에게 친절한 인사로 시작하는 게 좋을 것 같아. \"주문하신 상품 정보입니다:\" 같은 문구로 시작하고, 각 상품을 나열하는 형식으로 정리하면 이해하기 쉬울 거야. 가격은 원화이므로 정확히 표시해야 하고요.\n",
      "\n",
      "또한, 배송 정보나 등급 관련 정보가 필요할 수도 있으니, 추가로 물어보는 것도 좋을 것 같아. 예를 들어 \"배송 정보를 확인하시려면 상품명을 알려주세요\"나 \"등급 혜택을 확인하시려면 등급 조회도 가능합니다\" 같은 문장을 추가하면 사용자의 추가 요청을 유도할 수 있겠지.\n",
      "\n",
      "마지막으로 전체적인 흐름이 자연스럽고 친절해야 하니까, 문장의 끝에 감사의 말이나 도움이 더 필요하면 언제든지 문구를 넣는 것도 좋을 것 같아. 이렇게 하면 사용자의 질문에 충분히 답변하면서도 추가적인 도움을 제공할 수 있을 거야.\n",
      "</think>\n",
      "\n",
      "주문하신 상품 정보입니다:\n",
      "1. 스트라이프 셔츠 - 12,000원\n",
      "2. 트레이닝 바지 - 35,000원\n",
      "\n",
      "배송 정보를 확인하시려면 상품명을 알려주시고, 등급 혜택을 확인하시려면 '등급 조회'를 말씀해주세요! 😊\n",
      "\n",
      "--------------------------------------------------\n",
      "Q: 내 등급 조회\n",
      "* get_grade_info() tool 사용중...\n",
      "A : <think>\n",
      "Okay, the user asked to check their grade. I used the get_grade_info function, which doesn't require any parameters. The response from the tool was \"VIP\". So I need to inform the user that their current grade is VIP. I should keep it simple and clear. Let me just state their grade and maybe offer further assistance. Alright, that should do it.\n",
      "</think>\n",
      "\n",
      "您的当前等级是 **VIP** 등급입니다. 추가로 도움이 필요한 사항이 있다면 알려주세요!\n",
      "\n",
      "--------------------------------------------------\n",
      "Q: 스트라이프 셔츠 주문한거 언제와\n",
      "* get_shipping_info() tool 사용중...\n",
      "A : <think>\n",
      "Okay, the user asked when their striped shirt order will arrive. I first needed to check the shipping info for that product. I used the get_shipping_info function with \"스트라이프 셔츠\" as the product argument. The response came back as \"배송준비중\", which means \"Preparing shipment\" in Korean. \n",
      "\n",
      "Now, I should explain this status to the user. They probably want to know what \"preparing shipment\" entails and when they can expect the next steps. I should mention that this phase is when the seller is packing the item and getting it ready to send. It might take a couple of days, and once it's shipped, the delivery service will take over. \n",
      "\n",
      "I should also reassure them that everything is on track and maybe suggest checking for updates later if they're impatient. Let me put this in a friendly and clear way so they understand the process without worrying.\n",
      "</think>\n",
      "\n",
      "주문하신 스트라이프 셔츠의 배송 상태가 **\"배송준비중\"**입니다. 이 단계는 상품이 판매자 측에서 포장 및 출고 준비 중임을 의미합니다. 보통 1~3일 내로 출고가 완료되면, 해당 운송업체를 통해 배송 중 상태로 변경됩니다. 조금 더 시간 주시고, 필요시 추적번호로 진행 상황을 확인해 주세요! 😊\n",
      "\n",
      "--------------------------------------------------\n",
      "Q: 내 등급이랑 주문정보 알려줘\n",
      "* get_grade_info() tool 사용중...\n",
      "* get_order_info() tool 사용중...\n",
      "A : <think>\n",
      "Okay, the user asked for their grade and order information. I first called the get_grade_info function, which returned \"VIP\". Then, I used get_order_info and got a list of two products: a stripe shirt and training pants with their prices.\n",
      "\n",
      "Now I need to present this info clearly. Let me start by stating their VIP status. Next, list the ordered items with prices. I should format the prices neatly, maybe using bullet points. Also, since they're a VIP, maybe mention any perks they might have, like discounts or priority service. Wait, the functions didn't provide details on VIP benefits, but it's good to acknowledge their status. I'll keep it straightforward and friendly.\n",
      "</think>\n",
      "\n",
      "您的等级是 **VIP**，享受专属优惠和优先服务！  \n",
      "\n",
      "주문하신 상품 정보입니다:  \n",
      "✅ 스트라이프 셔츠 - 12,000원  \n",
      "✅ 트레이닝 바지 - 35,000원  \n",
      "\n",
      "필요한 것이 있으면 언제든 말씀주세요! 😊\n",
      "\n",
      "--------------------------------------------------\n",
      "Q: 한국의 수도가 어디야\n",
      "A : <think>\n",
      "미안합니다, 제가 한국의 수도에 대해 정확한 정보를 제공할 수 없네요. 이 문제를 도와드릴 수 없네요.\n",
      "</think>\n",
      "\n",
      "<think>\n",
      "\n",
      "한국의 수도는 서울입니다.\n",
      "\n",
      "--------------------------------------------------\n"
     ]
    }
   ],
   "source": [
    "for q in QUESTION_LIST:\n",
    "    print(f\"Q: {q}\")\n",
    "    # answer = invoke_model(q, llm)\n",
    "    answer = invoke_model(q, llm_with_tools)\n",
    "    print(f\"A : {answer}\\n\")\n",
    "    print(\"-\"*50) "
   ]
  },
  {
   "cell_type": "code",
   "execution_count": null,
   "metadata": {},
   "outputs": [],
   "source": []
  }
 ],
 "metadata": {
  "kernelspec": {
   "display_name": "Python 3",
   "language": "python",
   "name": "python3"
  },
  "language_info": {
   "codemirror_mode": {
    "name": "ipython",
    "version": 3
   },
   "file_extension": ".py",
   "mimetype": "text/x-python",
   "name": "python",
   "nbconvert_exporter": "python",
   "pygments_lexer": "ipython3",
   "version": "3.12.9"
  }
 },
 "nbformat": 4,
 "nbformat_minor": 2
}
