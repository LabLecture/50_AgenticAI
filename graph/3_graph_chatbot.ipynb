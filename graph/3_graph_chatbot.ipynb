{
 "cells": [
  {
   "cell_type": "code",
   "execution_count": 1,
   "metadata": {},
   "outputs": [
    {
     "data": {
      "text/plain": [
       "True"
      ]
     },
     "execution_count": 1,
     "metadata": {},
     "output_type": "execute_result"
    }
   ],
   "source": [
    "# API 키를 환경변수로 관리하기 위한 설정 파일\n",
    "from dotenv import load_dotenv\n",
    "\n",
    "# API 키 정보 로드\n",
    "load_dotenv()\n",
    "# https://wikidocs.net/264614 "
   ]
  },
  {
   "cell_type": "code",
   "execution_count": 2,
   "metadata": {},
   "outputs": [],
   "source": [
    "from typing import Annotated, TypedDict\n",
    "from langgraph.graph.message import add_messages\n",
    "\n",
    "\n",
    "# State 정의\n",
    "class State(TypedDict):\n",
    "    # list 타입에 add_messages 적용(list 에 message 추가)\n",
    "    messages: Annotated[list, add_messages]"
   ]
  },
  {
   "cell_type": "code",
   "execution_count": 3,
   "metadata": {},
   "outputs": [],
   "source": [
    "# !pip install langchain-ollama"
   ]
  },
  {
   "cell_type": "code",
   "execution_count": 4,
   "metadata": {},
   "outputs": [
    {
     "name": "stderr",
     "output_type": "stream",
     "text": [
      "C:\\Users\\kevin\\AppData\\Local\\Temp\\ipykernel_17492\\3623621652.py:9: LangChainDeprecationWarning: The class `ChatOllama` was deprecated in LangChain 0.3.1 and will be removed in 1.0.0. An updated version of the class exists in the :class:`~langchain-ollama package and should be used instead. To use it run `pip install -U :class:`~langchain-ollama` and import as `from :class:`~langchain_ollama import ChatOllama``.\n",
      "  llm = ChatOllama(model=\"mistral:latest\", temperature=0, base_url = \"http://192.168.1.203:11434\")\n"
     ]
    }
   ],
   "source": [
    "# from langchain_openai import ChatOpenAI\n",
    "from langchain_community.chat_models import ChatOllama\n",
    "# from langchain_ollama import ChatOllama\n",
    "\n",
    "# LLM 초기화\n",
    "# llm = ChatOpenAI(api_key=\"ollama\", model=\"mistral:latest\", base_url=\"http://61.108.166.16:11434\")\n",
    "# llm = ChatOpenAI(model=\"gpt-4o-mini\")\n",
    "# llm = ChatOllama(model=\"mistral:latest\", base_url=\"http://61.108.166.16:11434\")\n",
    "llm = ChatOllama(model=\"mistral:latest\", temperature=0, base_url = \"http://192.168.1.203:11434\")\n",
    "# llm = ChatOllama(model=\"mistral:latest\", base_url=\"http://ollama_dev:11434\")\n"
   ]
  },
  {
   "cell_type": "code",
   "execution_count": 5,
   "metadata": {},
   "outputs": [
    {
     "data": {
      "text/plain": [
       "AIMessage(content='1. 삼계탕 삼가촌 삼계탕 (Samgae-dong, Samgyetang) - 한국의 대표적인 여름 음식으로, 치icken soup with ginseng and glutinous rice.\\n\\n2. 서울 시장 갈비찜 (Seoul Market Galbi Jjim) - 고기를 빠르게 탕에 담아 조리한 전통적인 한국 요리.\\n\\n3. 동대문 이마트 식당 김치찌개 (Dongdaemun Imart Restaurant Kimchi Jjigae) - 김치, 돼지고기, 토툽, 계란을 포함한 전통적인 한국 요리.\\n\\n4. 서울 시장 삼계탕 (Seoul Market Samgyetang) - 여름에 가장 추천되는 한국 음식 중 하나로, 치icken soup with ginseng and glutinous rice.\\n\\n5. 서울 시장 삼계탕 (Seoul Market Samgyetang) - 여름에 가장 추천되는 한국 음식 중 하나로, 치icken soup with ginseng and glutinous rice.\\n\\n6. 서울 시장 삼계탕 (Seoul Market Samgyetang) - 여름에 가장 추천되는 한국 음식 중 하나로, 치icken soup with ginseng and glutinous rice.\\n\\n7. 서울 시장 삼계탕 (Seoul Market Samgyetang) - 여름에 가장 추천되는 한국 음식 중 하나로, 치icken soup with ginseng and glutinous rice.\\n\\n8. 서울 시장 삼계탕 (Seoul Market Samgyetang) - 여름에 가장 추천되는 한국 음식 중 하나로, 치icken soup with ginseng and glutinous rice.\\n\\n9. 서울 시장 삼계탕 (Seoul Market Samgyetang) - 여름에 가장 추천되는 한국 음식 중 하나로, 치icken soup with ginseng and glutinous rice.\\n\\n10. 서울 시장 삼계탕 (Seoul Market Samgyetang) - 여름에 가장 추천되는 한국 음식 중 하나로, 치icken soup with ginseng and glutinous rice.\\n\\n위의 10개 맛집은 서울의 유명한 맛집으로, 모두 삼계탕(Samgyetang)을 제공하는 것으로 알려져 있습니다. 실제로 서울에서 가장 추천되는 맛집은 여러 가지 요인이 있으므로, 위의 목록은 일부만 소개하였습니다. 각자 취향과 선호도에 따라 다른 맛집을 찾아보시기 바랍니다.', additional_kwargs={}, response_metadata={'model': 'mistral:latest', 'created_at': '2025-04-28T06:15:02.024229568Z', 'message': {'role': 'assistant', 'content': ''}, 'done_reason': 'stop', 'done': True, 'total_duration': 17754209147, 'load_duration': 5768932923, 'prompt_eval_count': 29, 'prompt_eval_duration': 2017000000, 'eval_count': 858, 'eval_duration': 9965000000}, id='run-acb444ef-ef39-41d3-aea0-48dba37c4f01-0')"
      ]
     },
     "execution_count": 5,
     "metadata": {},
     "output_type": "execute_result"
    }
   ],
   "source": [
    "question = \"서울의 유명한 맛집 TOP 10 추천해줘\"\n",
    "llm.invoke(question)"
   ]
  },
  {
   "cell_type": "code",
   "execution_count": 6,
   "metadata": {},
   "outputs": [],
   "source": [
    "# 챗봇 함수 정의\n",
    "def chatbot(state: State):\n",
    "    # 메시지 호출 및 반환\n",
    "    return {\"messages\": [llm.invoke(state[\"messages\"])]}"
   ]
  },
  {
   "cell_type": "code",
   "execution_count": 7,
   "metadata": {},
   "outputs": [
    {
     "data": {
      "text/plain": [
       "<langgraph.graph.state.StateGraph at 0x21eaed30ef0>"
      ]
     },
     "execution_count": 7,
     "metadata": {},
     "output_type": "execute_result"
    }
   ],
   "source": [
    "# 그래프 생성 및 노드를 추가\n",
    "from langgraph.graph import StateGraph, START, END\n",
    "\n",
    "# 상태 그래프 초기화\n",
    "graph_builder = StateGraph(State)\n",
    "\n",
    "# 노드 추가\n",
    "graph_builder.add_node(\"chatbot\", chatbot)"
   ]
  },
  {
   "cell_type": "code",
   "execution_count": 8,
   "metadata": {},
   "outputs": [
    {
     "data": {
      "text/plain": [
       "<langgraph.graph.state.StateGraph at 0x21eaed30ef0>"
      ]
     },
     "execution_count": 8,
     "metadata": {},
     "output_type": "execute_result"
    }
   ],
   "source": [
    "# 시작 노드에서 챗봇 노드로의 엣지 추가\n",
    "graph_builder.add_edge(START, \"chatbot\")\n",
    "# 그래프에 엣지 추가\n",
    "graph_builder.add_edge(\"chatbot\", END)"
   ]
  },
  {
   "cell_type": "code",
   "execution_count": 9,
   "metadata": {},
   "outputs": [],
   "source": [
    "# 그래프 컴파일\n",
    "graph = graph_builder.compile()"
   ]
  },
  {
   "cell_type": "code",
   "execution_count": 10,
   "metadata": {},
   "outputs": [
    {
     "data": {
      "image/png": "[encoded data removed]",
      "text/plain": [
       "<IPython.core.display.Image object>"
      ]
     },
     "metadata": {},
     "output_type": "display_data"
    }
   ],
   "source": [
    "from IPython.display import Image, display\n",
    "display(Image(graph.get_graph().draw_mermaid_png()))"
   ]
  },
  {
   "cell_type": "code",
   "execution_count": 11,
   "metadata": {},
   "outputs": [
    {
     "name": "stdout",
     "output_type": "stream",
     "text": [
      "Assistant: 1. 삼계탕 삼계탕 (Samgyetang Gukjeon): 한국의 대표적인 여름 음식으로, 치킨, 밥, 양념, 당근, 깡샘백등이 담긴 육수에 끓인 삼계탕.\n",
      "\n",
      "2. 강철집 강철집 (Gangjeoljip Gangjeoljip): 서울특별시 중구 대문로5가 36-10. 전통적인 한국 음식을 맛보실 수 있는 곳으로, 강철집은 고기 조리에 특화되어 있습니다.\n",
      "\n",
      "3. 서울탕수육 서울탕수육 (Seoul Tangsuyuk): 한국의 대표적인 치킨 요리로, 겉에는 달콤하고 속에는 맛있습니다.\n",
      "\n",
      "4. 서울시장 서울시장 (Seoul Market): 서울특별시 중구 대문로5가 36-10. 한국의 전통적인 음식을 맛보실 수 있는 곳으로, 여기에서는 다양한 음식을 즐길 수 있습니다.\n",
      "\n",
      "5. 삼계탕 삼계탕 (Samgyetang Gukjeon): 한국의 대표적인 여름 음식으로, 치킨, 밥, 양념, 당근, 깡샘백등이 담긴 육수에 끓인 삼계탕.\n",
      "\n",
      "6. 서울탕수육 서울탕수육 (Seoul Tangsuyuk): 한국의 대표적인 치킨 요리로, 겉에는 달콤하고 속에는 맛있습니다.\n",
      "\n",
      "7. 서울시장 서울시장 (Seoul Market): 서울특별시 중구 대문로5가 36-10. 한국의 전통적인 음식을 맛보실 수 있는 곳으로, 여기에서는 다양한 음식을 즐길 수 있습니다.\n",
      "\n",
      "8. 강철집 강철집 (Gangjeoljip Gangjeoljip): 서울특별시 중구 대문로5가 36-10. 전통적인 한국 음식을 맛보실 수 있는 곳으로, 강철집은 고기 조리에 특화되어 있습니다.\n",
      "\n",
      "9. 서울탕수육 서울탕수육 (Seoul Tangsuyuk): 한국의 대표적인 치킨 요리로, 겉에는 달콤하고 속에는 맛있습니다.\n",
      "\n",
      "10. 서울시장 서울시장 (Seoul Market): 서울특별시 중구 대문로5가 36-10. 한국의 전통적인 음식을 맛보실 수 있는 곳으로, 여기에서는 다양한 음식을 즐길 수 있습니다.\n",
      "\n",
      "위의 TOP 10은 서울의 유명한 맛집으로, 각각 특정 요리나 음식을 전문적으로 조리하고 있는 곳들입니다. 이러한 맛집들에서 한국의 전통적인 음식을 맛보실 수 있습니다.\n"
     ]
    }
   ],
   "source": [
    "question = \"서울의 유명한 맛집 TOP 10 추천해줘\"\n",
    "\n",
    "# 그래프 이벤트 스트리밍\n",
    "for event in graph.stream({\"messages\": [(\"user\", question)]}):\n",
    "    # 이벤트 값 출력\n",
    "    for value in event.values():\n",
    "        print(\"Assistant:\", value[\"messages\"][-1].content)"
   ]
  },
  {
   "cell_type": "code",
   "execution_count": null,
   "metadata": {},
   "outputs": [],
   "source": []
  }
 ],
 "metadata": {
  "kernelspec": {
   "display_name": "venv",
   "language": "python",
   "name": "python3"
  },
  "language_info": {
   "codemirror_mode": {
    "name": "ipython",
    "version": 3
   },
   "file_extension": ".py",
   "mimetype": "text/x-python",
   "name": "python",
   "nbconvert_exporter": "python",
   "pygments_lexer": "ipython3",
   "version": "3.12.8"
  }
 },
 "nbformat": 4,
 "nbformat_minor": 2
}
