{
 "cells": [
  {
   "cell_type": "code",
   "execution_count": 3,
   "metadata": {},
   "outputs": [
    {
     "data": {
      "text/plain": [
       "True"
      ]
     },
     "execution_count": 3,
     "metadata": {},
     "output_type": "execute_result"
    }
   ],
   "source": [
    "# API 키를 환경변수로 관리하기 위한 설정 파일\n",
    "from dotenv import load_dotenv\n",
    "\n",
    "# API 키 정보 로드\n",
    "load_dotenv()"
   ]
  },
  {
   "cell_type": "code",
   "execution_count": 4,
   "metadata": {},
   "outputs": [],
   "source": [
    "from typing import Annotated, TypedDict\n",
    "from langgraph.graph.message import add_messages\n",
    "from langchain_core.messages import HumanMessage, AIMessage, ToolMessage\n",
    "from function_call_tool import tools\n"
   ]
  },
  {
   "cell_type": "code",
   "execution_count": 5,
   "metadata": {},
   "outputs": [],
   "source": [
    "QUESTION_LIST = [\n",
    "    \"주문 조회해줘\",\n",
    "    \"내 등급 조회\",\n",
    "    \"스트라이프 셔츠 주문한거 언제와\",\n",
    "    \"내 등급이랑 주문정보 알려줘\", # multi tool use\n",
    "    \"한국의 수도가 어디야\"\n",
    "]\n",
    "\n",
    "llm_invoke_callbacks = []\n",
    "\n",
    "tool_dict = {t.name:t for t in tools}"
   ]
  },
  {
   "cell_type": "code",
   "execution_count": 1,
   "metadata": {},
   "outputs": [],
   "source": [
    "def invoke_model(query, llm):\n",
    "    messages = [HumanMessage(query)]\n",
    "\n",
    "    ai_msg = llm.invoke(messages, config={'callbacks': llm_invoke_callbacks})\n",
    "    messages.append(ai_msg)\n",
    "    # return response\n",
    "    if ai_msg.content=='':\n",
    "        # tool call\n",
    "        for tool_call in ai_msg.tool_calls:\n",
    "            selected_tool = tool_dict[tool_call['name']]\n",
    "            print(f\"* {selected_tool.name}() tool 사용중...\")\n",
    "            tool_msg = selected_tool.invoke(tool_call)\n",
    "            messages.append(tool_msg)\n",
    "        response2 = llm.invoke(messages, config={'callbacks': llm_invoke_callbacks})\n",
    "        answer = response2.content\n",
    "    else:\n",
    "        answer = ai_msg.content\n",
    "    return answer"
   ]
  },
  {
   "cell_type": "code",
   "execution_count": 2,
   "metadata": {},
   "outputs": [
    {
     "name": "stderr",
     "output_type": "stream",
     "text": [
      "C:\\Users\\kevin\\AppData\\Local\\Temp\\ipykernel_16772\\3490896427.py:9: LangChainDeprecationWarning: The class `ChatOllama` was deprecated in LangChain 0.3.1 and will be removed in 1.0.0. An updated version of the class exists in the :class:`~langchain-ollama package and should be used instead. To use it run `pip install -U :class:`~langchain-ollama` and import as `from :class:`~langchain_ollama import ChatOllama``.\n",
      "  llm = ChatOllama(model=\"mistral:latest\", temperature=0, base_url = \"http://192.168.1.203:11434\")\n"
     ]
    }
   ],
   "source": [
    "# from langchain_openai import ChatOpenAI\n",
    "from langchain_community.chat_models import ChatOllama\n",
    "# from langchain_ollama import ChatOllama\n",
    "\n",
    "# LLM 초기화\n",
    "# llm = ChatOpenAI(api_key=\"ollama\", model=\"mistral:latest\", base_url=\"http://61.108.166.16:11434\")\n",
    "# llm = ChatOpenAI(model=\"gpt-4o-mini\")\n",
    "# llm = ChatOllama(model=\"mistral:latest\", base_url=\"http://61.108.166.16:11434\")\n",
    "llm = ChatOllama(model=\"mistral:latest\", temperature=0, base_url = \"http://192.168.1.203:11434\")"
   ]
  },
  {
   "cell_type": "code",
   "execution_count": 6,
   "metadata": {},
   "outputs": [],
   "source": [
    "def invoke_model(query, llm):\n",
    "    messages = [HumanMessage(query)]\n",
    "\n",
    "    ai_msg = llm.invoke(messages, config={'callbacks': llm_invoke_callbacks})\n",
    "    messages.append(ai_msg)\n",
    "    # return response\n",
    "    if ai_msg.content=='':\n",
    "        # tool call\n",
    "        for tool_call in ai_msg.tool_calls:\n",
    "            selected_tool = tool_dict[tool_call['name']]\n",
    "            print(f\"* {selected_tool.name}() tool 사용중...\")\n",
    "            tool_msg = selected_tool.invoke(tool_call)\n",
    "            messages.append(tool_msg)\n",
    "        response2 = llm.invoke(messages, config={'callbacks': llm_invoke_callbacks})\n",
    "        answer = response2.content\n",
    "    else:\n",
    "        answer = ai_msg.content\n",
    "    return answer"
   ]
  },
  {
   "cell_type": "code",
   "execution_count": 7,
   "metadata": {},
   "outputs": [],
   "source": [
    "def main():\n",
    "\n",
    "    for q in QUESTION_LIST:\n",
    "        print(f\"Q: {q}\")\n",
    "        answer = invoke_model(q, llm)\n",
    "        print(f\"A : {answer}\\n\")\n",
    "        print(\"-\"*50) "
   ]
  },
  {
   "cell_type": "code",
   "execution_count": 8,
   "metadata": {},
   "outputs": [
    {
     "data": {
      "text/plain": [
       "<function __main__.main()>"
      ]
     },
     "execution_count": 8,
     "metadata": {},
     "output_type": "execute_result"
    }
   ],
   "source": [
    "main"
   ]
  },
  {
   "cell_type": "code",
   "execution_count": null,
   "metadata": {},
   "outputs": [],
   "source": []
  }
 ],
 "metadata": {
  "kernelspec": {
   "display_name": "Python 3",
   "language": "python",
   "name": "python3"
  },
  "language_info": {
   "codemirror_mode": {
    "name": "ipython",
    "version": 3
   },
   "file_extension": ".py",
   "mimetype": "text/x-python",
   "name": "python",
   "nbconvert_exporter": "python",
   "pygments_lexer": "ipython3",
   "version": "3.12.9"
  }
 },
 "nbformat": 4,
 "nbformat_minor": 2
}
